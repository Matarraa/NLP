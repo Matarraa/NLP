{
 "cells": [
  {
   "cell_type": "markdown",
   "id": "6807bca3",
   "metadata": {},
   "source": [
    " # Построение корпуса текстов\n",
    " \n",
    " Тексты для корпуса взяты с сайта [\"Астрономия для школьников\"](https://astro.altspu.ru) из [раздела](https://astro.altspu.ru/events/words/word.html?word=185) новостей, содержащих ключевое слово \"метеорит\".  \n",
    " В конце каждой новости представлены ключевые слова. "
   ]
  },
  {
   "cell_type": "code",
   "execution_count": 3,
   "id": "5cf53d02",
   "metadata": {},
   "outputs": [],
   "source": [
    "import urllib.request\n",
    "import re\n",
    "import os\n",
    "from bs4 import BeautifulSoup\n",
    "import requests\n",
    "import pandas as pd"
   ]
  },
  {
   "cell_type": "code",
   "execution_count": 26,
   "id": "c39fdefa",
   "metadata": {},
   "outputs": [],
   "source": [
    "url = 'https://astro.altspu.ru/events/words/word.html?word=185'\n",
    "main_url = 'https://astro.altspu.ru'"
   ]
  },
  {
   "cell_type": "code",
   "execution_count": 166,
   "id": "860c780c",
   "metadata": {},
   "outputs": [],
   "source": [
    "# достаем ссылки на новости со страницы и добавляем их в список \n",
    "hrefs = []\n",
    "response = requests.get(url)\n",
    "soup = BeautifulSoup(response.text)\n",
    "content = soup.find_all('div', {'id': 'content'})\n",
    "for a in content[0].find_all('a'):\n",
    "    href = a.attrs['href']\n",
    "    if href.endswith('html') and href.startswith('/events'):\n",
    "        hrefs.append(main_url + href)\n",
    "hrefs = hrefs[::2]"
   ]
  },
  {
   "cell_type": "code",
   "execution_count": 259,
   "id": "e001693a",
   "metadata": {},
   "outputs": [],
   "source": [
    "df = pd.DataFrame(columns=['text', 'key_words'])"
   ]
  },
  {
   "cell_type": "code",
   "execution_count": 260,
   "id": "b7993388",
   "metadata": {},
   "outputs": [],
   "source": [
    "# достаем текст новости и ключевые слова со страницы\n",
    "for href in hrefs:\n",
    "    response = requests.get(href)\n",
    "    soup = BeautifulSoup(response.text)\n",
    "    \n",
    "    text = soup.find_all('div', {'id': 'content'})[0].find_all('p')[0].text.split('Еще новости сходной тематики:')[0]\n",
    "    text = re.sub('\\n', '', text)\n",
    "    \n",
    "    if len(text) > 2000:\n",
    "        key_words = re.search(r'(Ключевые слова: )(.+)( Разделы:)', \n",
    "                          soup.find_all('p', {'style': 'text-align:right;'})[0].text)\n",
    "        if key_words:\n",
    "            key_words = key_words.group(2)\n",
    "        else:\n",
    "            key_words = re.search(r'(Ключевые слова: )(.+)', soup.find_all('p')[-1].text).group(2)\n",
    "\n",
    "        df = df.append({'text': text, 'key_words': key_words}, ignore_index=True)\n",
    "    else:\n",
    "        continue"
   ]
  },
  {
   "cell_type": "code",
   "execution_count": 265,
   "id": "44d0d3ce",
   "metadata": {},
   "outputs": [],
   "source": [
    "# выделенные мной ключевые слова\n",
    "text_0 = 'метеорит, Луна, гудение, сейсмическое колебание, '\n",
    "text_1 = 'метеорит, взрыв, шар-болид, Тунгусский метеорит'\n",
    "text_2 = 'метеорит, Луна, камушек, метеор'\n",
    "text_3 = 'Марс, марсоход, метеорит, вода, Земля, Красная планета'\n",
    "text_4 = 'метеорит, взрыв, Австралия, вспышка'\n",
    "\n",
    "df['my_key_words'] = [text_0, text_1, text_2, text_3, text_4]"
   ]
  },
  {
   "cell_type": "code",
   "execution_count": 361,
   "id": "a782965d",
   "metadata": {},
   "outputs": [],
   "source": [
    "# эталон - объединения выделенных мной и данных ключевых слов\n",
    "standard = []\n",
    "for i in range(5):\n",
    "    list1 = df['key_words'].to_list()[i].split(', ')\n",
    "    list2 = df['my_key_words'].to_list()[i].split(', ')\n",
    "    standard_key_words = list1 + list2\n",
    "    standard.append(', '.join(set(standard_key_words)))\n",
    "df['standard_key_words'] = standard"
   ]
  },
  {
   "cell_type": "code",
   "execution_count": 267,
   "id": "256826aa",
   "metadata": {},
   "outputs": [
    {
     "data": {
      "text/html": [
       "<div>\n",
       "<style scoped>\n",
       "    .dataframe tbody tr th:only-of-type {\n",
       "        vertical-align: middle;\n",
       "    }\n",
       "\n",
       "    .dataframe tbody tr th {\n",
       "        vertical-align: top;\n",
       "    }\n",
       "\n",
       "    .dataframe thead th {\n",
       "        text-align: right;\n",
       "    }\n",
       "</style>\n",
       "<table border=\"1\" class=\"dataframe\">\n",
       "  <thead>\n",
       "    <tr style=\"text-align: right;\">\n",
       "      <th></th>\n",
       "      <th>text</th>\n",
       "      <th>key_words</th>\n",
       "      <th>my_key_words</th>\n",
       "      <th>standard_key_words</th>\n",
       "    </tr>\n",
       "  </thead>\n",
       "  <tbody>\n",
       "    <tr>\n",
       "      <th>0</th>\n",
       "      <td>Вибрации Луны, порождаемые постоянными ударам...</td>\n",
       "      <td>Луна, метеорит, бомбардировка, сейсмическая ак...</td>\n",
       "      <td>метеорит, Луна, гудение, сейсмическое колебание,</td>\n",
       "      <td>, гудение, сейсмическое колебание, сейсмическа...</td>\n",
       "    </tr>\n",
       "    <tr>\n",
       "      <th>1</th>\n",
       "      <td>30 июня 1908 года около семи часов утра над о...</td>\n",
       "      <td>метеорит, астрономия, история, Тунгусский мете...</td>\n",
       "      <td>метеорит, взрыв, шар-болид, Тунгусский метеорит</td>\n",
       "      <td>шар-болид, болид, астрономия, метеорит, взрыв,...</td>\n",
       "    </tr>\n",
       "    <tr>\n",
       "      <th>2</th>\n",
       "      <td>Планам США создать на Луне постоянную базу к ...</td>\n",
       "      <td>Луна, Smart-1, NASA, метеор, комета, метеорит,...</td>\n",
       "      <td>метеорит, Луна, камушек, метеор</td>\n",
       "      <td>комета, Smart-1, NASA, метеор, метеорит, лунна...</td>\n",
       "    </tr>\n",
       "    <tr>\n",
       "      <th>3</th>\n",
       "      <td>Дэвид Шустер (David Shuster) из Калифорнийско...</td>\n",
       "      <td>Марс, марсоход, вода, Красная планета, метеори...</td>\n",
       "      <td>Марс, марсоход, метеорит, вода, Земля, Красная...</td>\n",
       "      <td>вода, Земля, марсоход, метеорит, Марс, Красная...</td>\n",
       "    </tr>\n",
       "    <tr>\n",
       "      <th>4</th>\n",
       "      <td>Загадочная вспышка света и взрыв, разбудившие...</td>\n",
       "      <td>метеорит</td>\n",
       "      <td>метеорит, взрыв, Австралия, вспышка</td>\n",
       "      <td>вспышка, метеорит , метеорит, взрыв, Австралия</td>\n",
       "    </tr>\n",
       "  </tbody>\n",
       "</table>\n",
       "</div>"
      ],
      "text/plain": [
       "                                                text  \\\n",
       "0   Вибрации Луны, порождаемые постоянными ударам...   \n",
       "1   30 июня 1908 года около семи часов утра над о...   \n",
       "2   Планам США создать на Луне постоянную базу к ...   \n",
       "3   Дэвид Шустер (David Shuster) из Калифорнийско...   \n",
       "4   Загадочная вспышка света и взрыв, разбудившие...   \n",
       "\n",
       "                                           key_words  \\\n",
       "0  Луна, метеорит, бомбардировка, сейсмическая ак...   \n",
       "1  метеорит, астрономия, история, Тунгусский мете...   \n",
       "2  Луна, Smart-1, NASA, метеор, комета, метеорит,...   \n",
       "3  Марс, марсоход, вода, Красная планета, метеори...   \n",
       "4                                          метеорит    \n",
       "\n",
       "                                        my_key_words  \\\n",
       "0  метеорит, Луна, гудение, сейсмическое колебание,    \n",
       "1    метеорит, взрыв, шар-болид, Тунгусский метеорит   \n",
       "2                    метеорит, Луна, камушек, метеор   \n",
       "3  Марс, марсоход, метеорит, вода, Земля, Красная...   \n",
       "4                метеорит, взрыв, Австралия, вспышка   \n",
       "\n",
       "                                  standard_key_words  \n",
       "0  , гудение, сейсмическое колебание, сейсмическа...  \n",
       "1  шар-болид, болид, астрономия, метеорит, взрыв,...  \n",
       "2  комета, Smart-1, NASA, метеор, метеорит, лунна...  \n",
       "3  вода, Земля, марсоход, метеорит, Марс, Красная...  \n",
       "4     вспышка, метеорит , метеорит, взрыв, Австралия  "
      ]
     },
     "execution_count": 267,
     "metadata": {},
     "output_type": "execute_result"
    }
   ],
   "source": [
    "df"
   ]
  },
  {
   "cell_type": "markdown",
   "id": "69da4996",
   "metadata": {},
   "source": [
    "# Извлечение ключевых слов"
   ]
  },
  {
   "cell_type": "code",
   "execution_count": 314,
   "id": "06f72e1c",
   "metadata": {},
   "outputs": [],
   "source": [
    "from pymystem3 import Mystem\n",
    "mystem = Mystem()"
   ]
  },
  {
   "cell_type": "code",
   "execution_count": 315,
   "id": "348989fd",
   "metadata": {},
   "outputs": [],
   "source": [
    "def normalize_text(text):\n",
    "    lemmas = mystem.lemmatize(text)   \n",
    "    return ' '.join(lemmas)"
   ]
  },
  {
   "cell_type": "markdown",
   "id": "4211535e",
   "metadata": {},
   "source": [
    "### RAKE"
   ]
  },
  {
   "cell_type": "code",
   "execution_count": 244,
   "id": "f612aa7e",
   "metadata": {},
   "outputs": [],
   "source": [
    "import RAKE\n",
    "import nltk\n",
    "from nltk.corpus import stopwords"
   ]
  },
  {
   "cell_type": "code",
   "execution_count": 245,
   "id": "34dc9522",
   "metadata": {},
   "outputs": [],
   "source": [
    "st_words = stopwords.words('russian')"
   ]
  },
  {
   "cell_type": "code",
   "execution_count": 247,
   "id": "62cba5b6",
   "metadata": {},
   "outputs": [],
   "source": [
    "rake = RAKE.Rake(st_words)"
   ]
  },
  {
   "cell_type": "code",
   "execution_count": 316,
   "id": "1b29022a",
   "metadata": {},
   "outputs": [],
   "source": [
    "rake_key_words = []\n",
    "for text in df['text'].to_list():\n",
    "    rake_kw = []\n",
    "    for elem in rake.run(normalize_text(text), minFrequency=2, maxWords=2):\n",
    "        rake_kw.append(elem[0])\n",
    "    rake_key_words.append(', '.join(rake_kw))\n",
    "df['rake_kw'] = rake_key_words"
   ]
  },
  {
   "cell_type": "markdown",
   "id": "e63945b0",
   "metadata": {},
   "source": [
    "### TextRank"
   ]
  },
  {
   "cell_type": "code",
   "execution_count": 277,
   "id": "987e0476",
   "metadata": {},
   "outputs": [],
   "source": [
    "from summa import keywords"
   ]
  },
  {
   "cell_type": "code",
   "execution_count": 317,
   "id": "675538c7",
   "metadata": {},
   "outputs": [],
   "source": [
    "TextRank_key_words = []\n",
    "for text in df['text'].to_list():\n",
    "    tr_kw = keywords.keywords(normalize_text(text), language='russian', additional_stopwords=st_words).replace('\\n', ', ')\n",
    "    TextRank_key_words.append(tr_kw)\n",
    "df['TextRank_kw'] = TextRank_key_words"
   ]
  },
  {
   "cell_type": "markdown",
   "id": "77e94ee1",
   "metadata": {},
   "source": [
    "### KeyBert"
   ]
  },
  {
   "cell_type": "code",
   "execution_count": 290,
   "id": "873d283a",
   "metadata": {},
   "outputs": [],
   "source": [
    "from keybert import KeyBERT"
   ]
  },
  {
   "cell_type": "code",
   "execution_count": 291,
   "id": "0a0dd383",
   "metadata": {},
   "outputs": [
    {
     "data": {
      "application/vnd.jupyter.widget-view+json": {
       "model_id": "b0e6e9cb293646959a7daa802c11cc1f",
       "version_major": 2,
       "version_minor": 0
      },
      "text/plain": [
       "Downloading:   0%|          | 0.00/1.65k [00:00<?, ?B/s]"
      ]
     },
     "metadata": {},
     "output_type": "display_data"
    },
    {
     "data": {
      "application/vnd.jupyter.widget-view+json": {
       "model_id": "7ce6ed5e0fcb416191b766d0dad0234c",
       "version_major": 2,
       "version_minor": 0
      },
      "text/plain": [
       "Downloading:   0%|          | 0.00/190 [00:00<?, ?B/s]"
      ]
     },
     "metadata": {},
     "output_type": "display_data"
    },
    {
     "data": {
      "application/vnd.jupyter.widget-view+json": {
       "model_id": "81477461960743f38b7378c34978b04a",
       "version_major": 2,
       "version_minor": 0
      },
      "text/plain": [
       "Downloading:   0%|          | 0.00/3.74k [00:00<?, ?B/s]"
      ]
     },
     "metadata": {},
     "output_type": "display_data"
    },
    {
     "data": {
      "application/vnd.jupyter.widget-view+json": {
       "model_id": "2d70c1ca00bd4327b9a5738ca60e17de",
       "version_major": 2,
       "version_minor": 0
      },
      "text/plain": [
       "Downloading:   0%|          | 0.00/48.0 [00:00<?, ?B/s]"
      ]
     },
     "metadata": {},
     "output_type": "display_data"
    },
    {
     "data": {
      "application/vnd.jupyter.widget-view+json": {
       "model_id": "330d3ffc33a242b687104d2dc1938431",
       "version_major": 2,
       "version_minor": 0
      },
      "text/plain": [
       "Downloading:   0%|          | 0.00/778 [00:00<?, ?B/s]"
      ]
     },
     "metadata": {},
     "output_type": "display_data"
    },
    {
     "data": {
      "application/vnd.jupyter.widget-view+json": {
       "model_id": "7c918c2b4651497cb61ab10ccec1b7e4",
       "version_major": 2,
       "version_minor": 0
      },
      "text/plain": [
       "Downloading:   0%|          | 0.00/117 [00:00<?, ?B/s]"
      ]
     },
     "metadata": {},
     "output_type": "display_data"
    },
    {
     "data": {
      "application/vnd.jupyter.widget-view+json": {
       "model_id": "9f457eac49fa41ae916bdf7b3ddcffd1",
       "version_major": 2,
       "version_minor": 0
      },
      "text/plain": [
       "Downloading:   0%|          | 0.00/1.11G [00:00<?, ?B/s]"
      ]
     },
     "metadata": {},
     "output_type": "display_data"
    },
    {
     "data": {
      "application/vnd.jupyter.widget-view+json": {
       "model_id": "3884683786a048b6a9855b721cdfd126",
       "version_major": 2,
       "version_minor": 0
      },
      "text/plain": [
       "Downloading:   0%|          | 0.00/53.0 [00:00<?, ?B/s]"
      ]
     },
     "metadata": {},
     "output_type": "display_data"
    },
    {
     "data": {
      "application/vnd.jupyter.widget-view+json": {
       "model_id": "e5cc8f87e5d242099fabc52767eb55e7",
       "version_major": 2,
       "version_minor": 0
      },
      "text/plain": [
       "Downloading:   0%|          | 0.00/5.07M [00:00<?, ?B/s]"
      ]
     },
     "metadata": {},
     "output_type": "display_data"
    },
    {
     "data": {
      "application/vnd.jupyter.widget-view+json": {
       "model_id": "82c2f37c939349a7bded644ce4b0cb57",
       "version_major": 2,
       "version_minor": 0
      },
      "text/plain": [
       "Downloading:   0%|          | 0.00/294 [00:00<?, ?B/s]"
      ]
     },
     "metadata": {},
     "output_type": "display_data"
    },
    {
     "data": {
      "application/vnd.jupyter.widget-view+json": {
       "model_id": "5d459b0fe9af4245be3960dee7b0d3d2",
       "version_major": 2,
       "version_minor": 0
      },
      "text/plain": [
       "Downloading:   0%|          | 0.00/9.08M [00:00<?, ?B/s]"
      ]
     },
     "metadata": {},
     "output_type": "display_data"
    },
    {
     "data": {
      "application/vnd.jupyter.widget-view+json": {
       "model_id": "73306336fad3486695a5ee55c76a380a",
       "version_major": 2,
       "version_minor": 0
      },
      "text/plain": [
       "Downloading:   0%|          | 0.00/464 [00:00<?, ?B/s]"
      ]
     },
     "metadata": {},
     "output_type": "display_data"
    },
    {
     "data": {
      "application/vnd.jupyter.widget-view+json": {
       "model_id": "f36edcfbeee94676a0d67651db37913d",
       "version_major": 2,
       "version_minor": 0
      },
      "text/plain": [
       "Downloading:   0%|          | 0.00/229 [00:00<?, ?B/s]"
      ]
     },
     "metadata": {},
     "output_type": "display_data"
    },
    {
     "name": "stderr",
     "output_type": "stream",
     "text": [
      "/Library/Frameworks/Python.framework/Versions/3.9/lib/python3.9/site-packages/transformers/configuration_utils.py:369: UserWarning: Passing `gradient_checkpointing` to a config initialization is deprecated and will be removed in v5 Transformers. Using `model.gradient_checkpointing_enable()` instead, or if you are using the `Trainer` API, pass `gradient_checkpointing=True` in your `TrainingArguments`.\n",
      "  warnings.warn(\n"
     ]
    }
   ],
   "source": [
    "kw_model = KeyBERT('clips/mfaq')"
   ]
  },
  {
   "cell_type": "code",
   "execution_count": 318,
   "id": "a86f1b2f",
   "metadata": {},
   "outputs": [],
   "source": [
    "bert_key_words = []\n",
    "for text in df['text'].to_list():\n",
    "    bert_kw = []\n",
    "    for elem in kw_model.extract_keywords(normalize_text(text), keyphrase_ngram_range=(1, 2), stop_words=st_words):\n",
    "        bert_kw.append(elem[0])\n",
    "    for elem in kw_model.extract_keywords(normalize_text(text), stop_words=st_words):\n",
    "        bert_kw.append(elem[0])\n",
    "    bert_key_words.append(', '.join(set(bert_kw)))"
   ]
  },
  {
   "cell_type": "code",
   "execution_count": 319,
   "id": "4f0ec3e1",
   "metadata": {},
   "outputs": [],
   "source": [
    "df['bert_kw'] = bert_key_words"
   ]
  },
  {
   "cell_type": "markdown",
   "id": "31e15f24",
   "metadata": {},
   "source": [
    "## Шаблоны для ключевых слов и фраз"
   ]
  },
  {
   "cell_type": "markdown",
   "id": "92e75bf6",
   "metadata": {},
   "source": [
    "В качестве ключевых слов обычно выделяют существительные или именные группы (прилагательное + существительное), поэтому из всех ключевых слов отберем ключевые слова, соответсвующие этому \"критерию\"."
   ]
  },
  {
   "cell_type": "code",
   "execution_count": 322,
   "id": "c6180fca",
   "metadata": {},
   "outputs": [],
   "source": [
    "from pprint import pprint"
   ]
  },
  {
   "cell_type": "code",
   "execution_count": 350,
   "id": "74d6df5a",
   "metadata": {},
   "outputs": [],
   "source": [
    "def filter_key_words(key_words):\n",
    "    filtered_kw = []\n",
    "    for element in key_words.lower().split(', '):\n",
    "        kw_pos = []\n",
    "        ana = m.analyze(element)\n",
    "        for word in ana:\n",
    "            if 'analysis' in word:\n",
    "                if word['analysis'] == []:\n",
    "                    pos = 'X'\n",
    "                    kw_pos.append(pos)\n",
    "                else:\n",
    "                    gr = word['analysis'][0]['gr']\n",
    "                    pos = gr.split('=')[0].split(',')[0]\n",
    "                    kw_pos.append(pos)   \n",
    "        if kw_pos == ['S'] or kw_pos == ['A','S']:\n",
    "            filtered_kw.append(element)\n",
    "    return filtered_kw"
   ]
  },
  {
   "cell_type": "code",
   "execution_count": 363,
   "id": "0a31de66",
   "metadata": {},
   "outputs": [],
   "source": [
    "def make_list(string):\n",
    "    kw_list = [word.lower() for word in string.split(', ') if word != '']\n",
    "    return kw_list"
   ]
  },
  {
   "cell_type": "code",
   "execution_count": 351,
   "id": "e01332ca",
   "metadata": {},
   "outputs": [],
   "source": [
    "df['filtered_standard_key_words'] = df['standard_key_words'].apply(filter_key_words)\n",
    "df['filtered_rake_kw'] = df['rake_kw'].apply(filter_key_words)\n",
    "df['filtered_TextRank_kw'] = df['TextRank_kw'].apply(filter_key_words)\n",
    "df['filtered_bert_kw'] = df['bert_kw'].apply(filter_key_words)"
   ]
  },
  {
   "cell_type": "code",
   "execution_count": 365,
   "id": "32e9869a",
   "metadata": {},
   "outputs": [],
   "source": [
    "df['standard_key_words'] = df['standard_key_words'].apply(make_list)\n",
    "df['rake_kw'] = df['rake_kw'].apply(make_list)\n",
    "df['TextRank_kw'] = df['TextRank_kw'].apply(make_list)\n",
    "df['bert_kw'] = df['bert_kw'].apply(make_list)"
   ]
  },
  {
   "cell_type": "code",
   "execution_count": 366,
   "id": "daac2021",
   "metadata": {},
   "outputs": [
    {
     "data": {
      "text/html": [
       "<div>\n",
       "<style scoped>\n",
       "    .dataframe tbody tr th:only-of-type {\n",
       "        vertical-align: middle;\n",
       "    }\n",
       "\n",
       "    .dataframe tbody tr th {\n",
       "        vertical-align: top;\n",
       "    }\n",
       "\n",
       "    .dataframe thead th {\n",
       "        text-align: right;\n",
       "    }\n",
       "</style>\n",
       "<table border=\"1\" class=\"dataframe\">\n",
       "  <thead>\n",
       "    <tr style=\"text-align: right;\">\n",
       "      <th></th>\n",
       "      <th>text</th>\n",
       "      <th>key_words</th>\n",
       "      <th>my_key_words</th>\n",
       "      <th>standard_key_words</th>\n",
       "      <th>rake_kw</th>\n",
       "      <th>TextRank_kw</th>\n",
       "      <th>bert_kw</th>\n",
       "      <th>filtered_rake_kw</th>\n",
       "      <th>filtered_standard_key_words</th>\n",
       "      <th>filtered_TextRank_kw</th>\n",
       "      <th>filtered_bert_kw</th>\n",
       "    </tr>\n",
       "  </thead>\n",
       "  <tbody>\n",
       "    <tr>\n",
       "      <th>0</th>\n",
       "      <td>Вибрации Луны, порождаемые постоянными ударам...</td>\n",
       "      <td>Луна, метеорит, бомбардировка, сейсмическая ак...</td>\n",
       "      <td>метеорит, Луна, гудение, сейсмическое колебание,</td>\n",
       "      <td>[гудение, сейсмическое колебание, сейсмическая...</td>\n",
       "      <td>[луна, поверхность, тысяча, оставлять, скоро]</td>\n",
       "      <td>[луна, лунный модуль, сейсмограф, ученый, апол...</td>\n",
       "      <td>[шум, внутри луна, луна появляться, метеоритны...</td>\n",
       "      <td>[луна, поверхность, тысяча]</td>\n",
       "      <td>[гудение, сейсмическое колебание, сейсмическая...</td>\n",
       "      <td>[луна, лунный модуль, сейсмограф, ученый, апол...</td>\n",
       "      <td>[шум, планета, волна, луна]</td>\n",
       "    </tr>\n",
       "    <tr>\n",
       "      <th>1</th>\n",
       "      <td>30 июня 1908 года около семи часов утра над о...</td>\n",
       "      <td>метеорит, астрономия, история, Тунгусский мете...</td>\n",
       "      <td>метеорит, взрыв, шар-болид, Тунгусский метеорит</td>\n",
       "      <td>[шар-болид, болид, астрономия, метеорит, взрыв...</td>\n",
       "      <td>[запад, это, версия]</td>\n",
       "      <td>[год около, выдвигать, экспедиция, тунгусский,...</td>\n",
       "      <td>[взрыв происходить, волна, утро обширный, взры...</td>\n",
       "      <td>[запад, версия]</td>\n",
       "      <td>[болид, астрономия, метеорит, взрыв, катаклизм...</td>\n",
       "      <td>[экспедиция, астроном, километр, писатель, исс...</td>\n",
       "      <td>[волна, взрыв, событие, пожар, катастрофа]</td>\n",
       "    </tr>\n",
       "    <tr>\n",
       "      <th>2</th>\n",
       "      <td>Планам США создать на Луне постоянную базу к ...</td>\n",
       "      <td>Луна, Smart-1, NASA, метеор, комета, метеорит,...</td>\n",
       "      <td>метеорит, Луна, камушек, метеор</td>\n",
       "      <td>[комета, smart-1, nasa, метеор, метеорит, лунн...</td>\n",
       "      <td>[вспышка, 0]</td>\n",
       "      <td>[луна, лунный, метеорит, метеор, энергия, набл...</td>\n",
       "      <td>[исследование земной, мочь помешать, сооружени...</td>\n",
       "      <td>[вспышка]</td>\n",
       "      <td>[комета, метеор, метеорит, лунная база , луна,...</td>\n",
       "      <td>[луна, метеорит, метеор, энергия, наблюдение, ...</td>\n",
       "      <td>[спутник, мочь, исследование, реальность]</td>\n",
       "    </tr>\n",
       "    <tr>\n",
       "      <th>3</th>\n",
       "      <td>Дэвид Шустер (David Shuster) из Калифорнийско...</td>\n",
       "      <td>Марс, марсоход, вода, Красная планета, метеори...</td>\n",
       "      <td>Марс, марсоход, метеорит, вода, Земля, Красная...</td>\n",
       "      <td>[вода, земля, марсоход, метеорит, марс, красна...</td>\n",
       "      <td>[марс, показывать, холодный, поверхность, земл...</td>\n",
       "      <td>[вода, марс, шустер, марсианский метеорит, пла...</td>\n",
       "      <td>[показывать марс, марс вероятно, марсоход, ист...</td>\n",
       "      <td>[марс, поверхность, земля]</td>\n",
       "      <td>[вода, земля, марсоход, метеорит, марс, красна...</td>\n",
       "      <td>[вода, марс, шустер, марсианский метеорит, пла...</td>\n",
       "      <td>[марсоход, планета, исследование, марс, история]</td>\n",
       "    </tr>\n",
       "    <tr>\n",
       "      <th>4</th>\n",
       "      <td>Загадочная вспышка света и взрыв, разбудившие...</td>\n",
       "      <td>метеорит</td>\n",
       "      <td>метеорит, взрыв, Австралия, вспышка</td>\n",
       "      <td>[вспышка, метеорит , метеорит, взрыв, австралия]</td>\n",
       "      <td>[взрыв, ничто]</td>\n",
       "      <td>[который, житель, падение метеорит, взрыв, чел...</td>\n",
       "      <td>[светло день, разбудить, утро, волна, взрыв ра...</td>\n",
       "      <td>[взрыв]</td>\n",
       "      <td>[вспышка, метеорит , метеорит, взрыв, австралия]</td>\n",
       "      <td>[житель, взрыв, человек, ученый, специалист, в...</td>\n",
       "      <td>[утро, волна, взрыв, загадочный вспышка, небо]</td>\n",
       "    </tr>\n",
       "  </tbody>\n",
       "</table>\n",
       "</div>"
      ],
      "text/plain": [
       "                                                text  \\\n",
       "0   Вибрации Луны, порождаемые постоянными ударам...   \n",
       "1   30 июня 1908 года около семи часов утра над о...   \n",
       "2   Планам США создать на Луне постоянную базу к ...   \n",
       "3   Дэвид Шустер (David Shuster) из Калифорнийско...   \n",
       "4   Загадочная вспышка света и взрыв, разбудившие...   \n",
       "\n",
       "                                           key_words  \\\n",
       "0  Луна, метеорит, бомбардировка, сейсмическая ак...   \n",
       "1  метеорит, астрономия, история, Тунгусский мете...   \n",
       "2  Луна, Smart-1, NASA, метеор, комета, метеорит,...   \n",
       "3  Марс, марсоход, вода, Красная планета, метеори...   \n",
       "4                                          метеорит    \n",
       "\n",
       "                                        my_key_words  \\\n",
       "0  метеорит, Луна, гудение, сейсмическое колебание,    \n",
       "1    метеорит, взрыв, шар-болид, Тунгусский метеорит   \n",
       "2                    метеорит, Луна, камушек, метеор   \n",
       "3  Марс, марсоход, метеорит, вода, Земля, Красная...   \n",
       "4                метеорит, взрыв, Австралия, вспышка   \n",
       "\n",
       "                                  standard_key_words  \\\n",
       "0  [гудение, сейсмическое колебание, сейсмическая...   \n",
       "1  [шар-болид, болид, астрономия, метеорит, взрыв...   \n",
       "2  [комета, smart-1, nasa, метеор, метеорит, лунн...   \n",
       "3  [вода, земля, марсоход, метеорит, марс, красна...   \n",
       "4   [вспышка, метеорит , метеорит, взрыв, австралия]   \n",
       "\n",
       "                                             rake_kw  \\\n",
       "0      [луна, поверхность, тысяча, оставлять, скоро]   \n",
       "1                               [запад, это, версия]   \n",
       "2                                       [вспышка, 0]   \n",
       "3  [марс, показывать, холодный, поверхность, земл...   \n",
       "4                                     [взрыв, ничто]   \n",
       "\n",
       "                                         TextRank_kw  \\\n",
       "0  [луна, лунный модуль, сейсмограф, ученый, апол...   \n",
       "1  [год около, выдвигать, экспедиция, тунгусский,...   \n",
       "2  [луна, лунный, метеорит, метеор, энергия, набл...   \n",
       "3  [вода, марс, шустер, марсианский метеорит, пла...   \n",
       "4  [который, житель, падение метеорит, взрыв, чел...   \n",
       "\n",
       "                                             bert_kw  \\\n",
       "0  [шум, внутри луна, луна появляться, метеоритны...   \n",
       "1  [взрыв происходить, волна, утро обширный, взры...   \n",
       "2  [исследование земной, мочь помешать, сооружени...   \n",
       "3  [показывать марс, марс вероятно, марсоход, ист...   \n",
       "4  [светло день, разбудить, утро, волна, взрыв ра...   \n",
       "\n",
       "              filtered_rake_kw  \\\n",
       "0  [луна, поверхность, тысяча]   \n",
       "1              [запад, версия]   \n",
       "2                    [вспышка]   \n",
       "3   [марс, поверхность, земля]   \n",
       "4                      [взрыв]   \n",
       "\n",
       "                         filtered_standard_key_words  \\\n",
       "0  [гудение, сейсмическое колебание, сейсмическая...   \n",
       "1  [болид, астрономия, метеорит, взрыв, катаклизм...   \n",
       "2  [комета, метеор, метеорит, лунная база , луна,...   \n",
       "3  [вода, земля, марсоход, метеорит, марс, красна...   \n",
       "4   [вспышка, метеорит , метеорит, взрыв, австралия]   \n",
       "\n",
       "                                filtered_TextRank_kw  \\\n",
       "0  [луна, лунный модуль, сейсмограф, ученый, апол...   \n",
       "1  [экспедиция, астроном, километр, писатель, исс...   \n",
       "2  [луна, метеорит, метеор, энергия, наблюдение, ...   \n",
       "3  [вода, марс, шустер, марсианский метеорит, пла...   \n",
       "4  [житель, взрыв, человек, ученый, специалист, в...   \n",
       "\n",
       "                                   filtered_bert_kw  \n",
       "0                       [шум, планета, волна, луна]  \n",
       "1        [волна, взрыв, событие, пожар, катастрофа]  \n",
       "2         [спутник, мочь, исследование, реальность]  \n",
       "3  [марсоход, планета, исследование, марс, история]  \n",
       "4    [утро, волна, взрыв, загадочный вспышка, небо]  "
      ]
     },
     "execution_count": 366,
     "metadata": {},
     "output_type": "execute_result"
    }
   ],
   "source": [
    "df"
   ]
  },
  {
   "cell_type": "markdown",
   "id": "ac5025bc",
   "metadata": {},
   "source": [
    "#  Оценка качества"
   ]
  },
  {
   "cell_type": "markdown",
   "id": "fafa675a",
   "metadata": {},
   "source": [
    "## Без учета фильтра"
   ]
  },
  {
   "cell_type": "markdown",
   "id": "d3ca4c79",
   "metadata": {},
   "source": [
    "## С учетом фильтра"
   ]
  },
  {
   "cell_type": "code",
   "execution_count": 371,
   "id": "edf29703",
   "metadata": {},
   "outputs": [],
   "source": [
    "def quality_metrics(pred_kw, true_kw):\n",
    "    precision = len(set(pred_kw).intersection(true_kw)) / len(pred_kw)\n",
    "    recall = len(set(pred_kw).intersection(true_kw)) / len(true_kw)\n",
    "    if precision + recall != 0:\n",
    "        f1 = 2 * precision * recall / (precision + recall)\n",
    "    else:\n",
    "        f1 = 0    \n",
    "    return precision, recall, f1  "
   ]
  },
  {
   "cell_type": "code",
   "execution_count": 390,
   "id": "76678a96",
   "metadata": {},
   "outputs": [],
   "source": [
    "df_results = pd.DataFrame(columns=['method', 'precision', 'recall', 'f1_score'])\n",
    "\n",
    "methods = ['rake_kw', 'TextRank_kw', 'bert_kw', 'filtered_rake_kw', 'filtered_TextRank_kw', 'filtered_bert_kw']\n",
    "for method in methods:\n",
    "    precision = 0\n",
    "    recall = 0\n",
    "    f1_score = 0\n",
    "    \n",
    "    pred_kw = df[method]\n",
    "    \n",
    "    if method.startswith('filtered'):\n",
    "        true_kw = df['filtered_standard_key_words']\n",
    "    else:\n",
    "        true_kw = df['standard_key_words']\n",
    "        \n",
    "    for i in range(len(true_kw)):\n",
    "        prec, rec, f1  = quality_metrics(pred_kw[i], true_kw[i])\n",
    "        precision += prec\n",
    "        recall += rec\n",
    "        f1_score += f1\n",
    "    df_results.loc[len(df_results.index)] = [method, precision/len(true_kw), recall/len(true_kw), f1_score/len(true_kw)]"
   ]
  },
  {
   "cell_type": "code",
   "execution_count": 391,
   "id": "19d9c281",
   "metadata": {},
   "outputs": [
    {
     "data": {
      "text/html": [
       "<div>\n",
       "<style scoped>\n",
       "    .dataframe tbody tr th:only-of-type {\n",
       "        vertical-align: middle;\n",
       "    }\n",
       "\n",
       "    .dataframe tbody tr th {\n",
       "        vertical-align: top;\n",
       "    }\n",
       "\n",
       "    .dataframe thead th {\n",
       "        text-align: right;\n",
       "    }\n",
       "</style>\n",
       "<table border=\"1\" class=\"dataframe\">\n",
       "  <thead>\n",
       "    <tr style=\"text-align: right;\">\n",
       "      <th></th>\n",
       "      <th>method</th>\n",
       "      <th>precision</th>\n",
       "      <th>recall</th>\n",
       "      <th>f1_score</th>\n",
       "    </tr>\n",
       "  </thead>\n",
       "  <tbody>\n",
       "    <tr>\n",
       "      <th>0</th>\n",
       "      <td>rake_kw</td>\n",
       "      <td>0.206667</td>\n",
       "      <td>0.130476</td>\n",
       "      <td>0.155045</td>\n",
       "    </tr>\n",
       "    <tr>\n",
       "      <th>1</th>\n",
       "      <td>TextRank_kw</td>\n",
       "      <td>0.104874</td>\n",
       "      <td>0.422381</td>\n",
       "      <td>0.166445</td>\n",
       "    </tr>\n",
       "    <tr>\n",
       "      <th>2</th>\n",
       "      <td>bert_kw</td>\n",
       "      <td>0.102222</td>\n",
       "      <td>0.155476</td>\n",
       "      <td>0.122255</td>\n",
       "    </tr>\n",
       "    <tr>\n",
       "      <th>3</th>\n",
       "      <td>filtered_rake_kw</td>\n",
       "      <td>0.400000</td>\n",
       "      <td>0.130476</td>\n",
       "      <td>0.191111</td>\n",
       "    </tr>\n",
       "    <tr>\n",
       "      <th>4</th>\n",
       "      <td>filtered_TextRank_kw</td>\n",
       "      <td>0.170751</td>\n",
       "      <td>0.434286</td>\n",
       "      <td>0.242323</td>\n",
       "    </tr>\n",
       "    <tr>\n",
       "      <th>5</th>\n",
       "      <td>filtered_bert_kw</td>\n",
       "      <td>0.210000</td>\n",
       "      <td>0.159048</td>\n",
       "      <td>0.180000</td>\n",
       "    </tr>\n",
       "  </tbody>\n",
       "</table>\n",
       "</div>"
      ],
      "text/plain": [
       "                 method  precision    recall  f1_score\n",
       "0               rake_kw   0.206667  0.130476  0.155045\n",
       "1           TextRank_kw   0.104874  0.422381  0.166445\n",
       "2               bert_kw   0.102222  0.155476  0.122255\n",
       "3      filtered_rake_kw   0.400000  0.130476  0.191111\n",
       "4  filtered_TextRank_kw   0.170751  0.434286  0.242323\n",
       "5      filtered_bert_kw   0.210000  0.159048  0.180000"
      ]
     },
     "execution_count": 391,
     "metadata": {},
     "output_type": "execute_result"
    }
   ],
   "source": [
    "df_results"
   ]
  },
  {
   "cell_type": "markdown",
   "id": "27d75533",
   "metadata": {},
   "source": [
    "Отфильтрованные по шаблонам ключевые слова показали улучшение метрик качества.  \n",
    "У метода TextRank выше полнота, то есть он лучше всех выделяет ключевые слова, но при этом добавляет немало лишнего. \n",
    "У rake наилучший показатель по точности, следовательно этот метод лучше отсекает не"
   ]
  }
 ],
 "metadata": {
  "kernelspec": {
   "display_name": "Python 3",
   "language": "python",
   "name": "python3"
  },
  "language_info": {
   "codemirror_mode": {
    "name": "ipython",
    "version": 3
   },
   "file_extension": ".py",
   "mimetype": "text/x-python",
   "name": "python",
   "nbconvert_exporter": "python",
   "pygments_lexer": "ipython3",
   "version": "3.9.4"
  }
 },
 "nbformat": 4,
 "nbformat_minor": 5
}
